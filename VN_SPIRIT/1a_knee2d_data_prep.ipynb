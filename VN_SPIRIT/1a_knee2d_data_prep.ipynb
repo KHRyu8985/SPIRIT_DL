{
 "cells": [
  {
   "cell_type": "code",
   "execution_count": 1,
   "metadata": {},
   "outputs": [],
   "source": [
    "import numpy as np\n",
    "import os \n",
    "import h5py\n",
    "os.environ['HDF5_USE_FILE_LOCKING'] = 'FALSE'\n",
    "import glob\n",
    "from natsort import natsorted\n",
    "from sklearn.model_selection import train_test_split"
   ]
  },
  {
   "cell_type": "code",
   "execution_count": 2,
   "metadata": {},
   "outputs": [
    {
     "name": "stdout",
     "output_type": "stream",
     "text": [
      "199\n"
     ]
    }
   ],
   "source": [
    "folder_dir = 'data/raw_knee2d'\n",
    "rawfiles = natsorted(glob.glob(os.path.join(folder_dir, '*.h5')))\n",
    "print(len(rawfiles))"
   ]
  },
  {
   "cell_type": "code",
   "execution_count": 3,
   "metadata": {},
   "outputs": [],
   "source": [
    "train_val_rawfile, test_rawfile = train_test_split(rawfiles, test_size = 0.1, random_state = 1)"
   ]
  },
  {
   "cell_type": "code",
   "execution_count": 4,
   "metadata": {},
   "outputs": [],
   "source": [
    "train_rawfile, val_rawfile = train_test_split(train_val_rawfile, test_size = 0.05, random_state = 1)"
   ]
  },
  {
   "cell_type": "code",
   "execution_count": 5,
   "metadata": {},
   "outputs": [
    {
     "name": "stdout",
     "output_type": "stream",
     "text": [
      "170 9 20\n"
     ]
    }
   ],
   "source": [
    "print(len(train_rawfile), len(val_rawfile), len(test_rawfile))"
   ]
  },
  {
   "cell_type": "code",
   "execution_count": 6,
   "metadata": {},
   "outputs": [],
   "source": [
    "import logging"
   ]
  },
  {
   "cell_type": "code",
   "execution_count": 7,
   "metadata": {},
   "outputs": [],
   "source": [
    "logger = logging.getLogger('VN-SPIRIT')"
   ]
  },
  {
   "cell_type": "code",
   "execution_count": 8,
   "metadata": {},
   "outputs": [],
   "source": [
    "handler = logging.StreamHandler()\n",
    "handler.setFormatter(logging.Formatter(logging.BASIC_FORMAT, None))\n",
    "logger.addHandler(handler)\n"
   ]
  },
  {
   "cell_type": "code",
   "execution_count": 9,
   "metadata": {},
   "outputs": [],
   "source": [
    "import json\n",
    "config = {\"train\": train_rawfile, \"test\":test_rawfile}\n",
    "\n",
    "with open(\"config/knee2d_data_selection.json\", 'w') as f:\n",
    "    json.dump(config, f)"
   ]
  },
  {
   "cell_type": "code",
   "execution_count": 10,
   "metadata": {},
   "outputs": [],
   "source": [
    "with open(\"config/knee2d_data_selection.json\", 'r') as f:\n",
    "    config2 = json.load(f)"
   ]
  },
  {
   "cell_type": "code",
   "execution_count": 11,
   "metadata": {},
   "outputs": [
    {
     "name": "stdout",
     "output_type": "stream",
     "text": [
      "{'train': ['data/raw_knee2d/file1000356.h5', 'data/raw_knee2d/file1000073.h5', 'data/raw_knee2d/file1001968.h5', 'data/raw_knee2d/file1001977.h5', 'data/raw_knee2d/file1001077.h5', 'data/raw_knee2d/file1000283.h5', 'data/raw_knee2d/file1000264.h5', 'data/raw_knee2d/file1001793.h5', 'data/raw_knee2d/file1001168.h5', 'data/raw_knee2d/file1001440.h5', 'data/raw_knee2d/file1001668.h5', 'data/raw_knee2d/file1000817.h5', 'data/raw_knee2d/file1000389.h5', 'data/raw_knee2d/file1001163.h5', 'data/raw_knee2d/file1002417.h5', 'data/raw_knee2d/file1001983.h5', 'data/raw_knee2d/file1001444.h5', 'data/raw_knee2d/file1000758.h5', 'data/raw_knee2d/file1001916.h5', 'data/raw_knee2d/file1001834.h5', 'data/raw_knee2d/file1001651.h5', 'data/raw_knee2d/file1001643.h5', 'data/raw_knee2d/file1001057.h5', 'data/raw_knee2d/file1001331.h5', 'data/raw_knee2d/file1000593.h5', 'data/raw_knee2d/file1002351.h5', 'data/raw_knee2d/file1000858.h5', 'data/raw_knee2d/file1000052.h5', 'data/raw_knee2d/file1000496.h5', 'data/raw_knee2d/file1001202.h5', 'data/raw_knee2d/file1001715.h5', 'data/raw_knee2d/file1001148.h5', 'data/raw_knee2d/file1001850.h5', 'data/raw_knee2d/file1001344.h5', 'data/raw_knee2d/file1001930.h5', 'data/raw_knee2d/file1000759.h5', 'data/raw_knee2d/file1002526.h5', 'data/raw_knee2d/file1000033.h5', 'data/raw_knee2d/file1000903.h5', 'data/raw_knee2d/file1000292.h5', 'data/raw_knee2d/file1000899.h5', 'data/raw_knee2d/file1001843.h5', 'data/raw_knee2d/file1000628.h5', 'data/raw_knee2d/file1000537.h5', 'data/raw_knee2d/file1000243.h5', 'data/raw_knee2d/file1000635.h5', 'data/raw_knee2d/file1000891.h5', 'data/raw_knee2d/file1001480.h5', 'data/raw_knee2d/file1001557.h5', 'data/raw_knee2d/file1002145.h5', 'data/raw_knee2d/file1000528.h5', 'data/raw_knee2d/file1001450.h5', 'data/raw_knee2d/file1001140.h5', 'data/raw_knee2d/file1002159.h5', 'data/raw_knee2d/file1000007.h5', 'data/raw_knee2d/file1000000.h5', 'data/raw_knee2d/file1002214.h5', 'data/raw_knee2d/file1001703.h5', 'data/raw_knee2d/file1002389.h5', 'data/raw_knee2d/file1002546.h5', 'data/raw_knee2d/file1002035.h5', 'data/raw_knee2d/file1000972.h5', 'data/raw_knee2d/file1001862.h5', 'data/raw_knee2d/file1000263.h5', 'data/raw_knee2d/file1001997.h5', 'data/raw_knee2d/file1000831.h5', 'data/raw_knee2d/file1001818.h5', 'data/raw_knee2d/file1001143.h5', 'data/raw_knee2d/file1001184.h5', 'data/raw_knee2d/file1000818.h5', 'data/raw_knee2d/file1000464.h5', 'data/raw_knee2d/file1000323.h5', 'data/raw_knee2d/file1000432.h5', 'data/raw_knee2d/file1000328.h5', 'data/raw_knee2d/file1001655.h5', 'data/raw_knee2d/file1000538.h5', 'data/raw_knee2d/file1000990.h5', 'data/raw_knee2d/file1001191.h5', 'data/raw_knee2d/file1000932.h5', 'data/raw_knee2d/file1000114.h5', 'data/raw_knee2d/file1000942.h5', 'data/raw_knee2d/file1002515.h5', 'data/raw_knee2d/file1001144.h5', 'data/raw_knee2d/file1000810.h5', 'data/raw_knee2d/file1001289.h5', 'data/raw_knee2d/file1001159.h5', 'data/raw_knee2d/file1000748.h5', 'data/raw_knee2d/file1000647.h5', 'data/raw_knee2d/file1002002.h5', 'data/raw_knee2d/file1001598.h5', 'data/raw_knee2d/file1001959.h5', 'data/raw_knee2d/file1002382.h5', 'data/raw_knee2d/file1000480.h5', 'data/raw_knee2d/file1002380.h5', 'data/raw_knee2d/file1002007.h5', 'data/raw_knee2d/file1000206.h5', 'data/raw_knee2d/file1002067.h5', 'data/raw_knee2d/file1000017.h5', 'data/raw_knee2d/file1001533.h5', 'data/raw_knee2d/file1000325.h5', 'data/raw_knee2d/file1000344.h5', 'data/raw_knee2d/file1001090.h5', 'data/raw_knee2d/file1000153.h5', 'data/raw_knee2d/file1002252.h5', 'data/raw_knee2d/file1002187.h5', 'data/raw_knee2d/file1000267.h5', 'data/raw_knee2d/file1000702.h5', 'data/raw_knee2d/file1001031.h5', 'data/raw_knee2d/file1000735.h5', 'data/raw_knee2d/file1001566.h5', 'data/raw_knee2d/file1001687.h5', 'data/raw_knee2d/file1000041.h5', 'data/raw_knee2d/file1000697.h5', 'data/raw_knee2d/file1001851.h5', 'data/raw_knee2d/file1001585.h5', 'data/raw_knee2d/file1001689.h5', 'data/raw_knee2d/file1000126.h5', 'data/raw_knee2d/file1001429.h5', 'data/raw_knee2d/file1001825.h5', 'data/raw_knee2d/file1001126.h5', 'data/raw_knee2d/file1002436.h5', 'data/raw_knee2d/file1000291.h5', 'data/raw_knee2d/file1000229.h5', 'data/raw_knee2d/file1002451.h5', 'data/raw_knee2d/file1000842.h5', 'data/raw_knee2d/file1002538.h5', 'data/raw_knee2d/file1000190.h5', 'data/raw_knee2d/file1001275.h5', 'data/raw_knee2d/file1001096.h5', 'data/raw_knee2d/file1000660.h5', 'data/raw_knee2d/file1000591.h5', 'data/raw_knee2d/file1000885.h5', 'data/raw_knee2d/file1001499.h5', 'data/raw_knee2d/file1001104.h5', 'data/raw_knee2d/file1001221.h5', 'data/raw_knee2d/file1001458.h5', 'data/raw_knee2d/file1001759.h5', 'data/raw_knee2d/file1002021.h5', 'data/raw_knee2d/file1001059.h5', 'data/raw_knee2d/file1000925.h5', 'data/raw_knee2d/file1000182.h5', 'data/raw_knee2d/file1001365.h5', 'data/raw_knee2d/file1000625.h5', 'data/raw_knee2d/file1000926.h5', 'data/raw_knee2d/file1001984.h5', 'data/raw_knee2d/file1000273.h5', 'data/raw_knee2d/file1001650.h5', 'data/raw_knee2d/file1001381.h5', 'data/raw_knee2d/file1002257.h5', 'data/raw_knee2d/file1002412.h5', 'data/raw_knee2d/file1000476.h5', 'data/raw_knee2d/file1001506.h5', 'data/raw_knee2d/file1001298.h5', 'data/raw_knee2d/file1000769.h5', 'data/raw_knee2d/file1001122.h5', 'data/raw_knee2d/file1002404.h5', 'data/raw_knee2d/file1001497.h5', 'data/raw_knee2d/file1002340.h5', 'data/raw_knee2d/file1001188.h5', 'data/raw_knee2d/file1000201.h5', 'data/raw_knee2d/file1000026.h5', 'data/raw_knee2d/file1001938.h5', 'data/raw_knee2d/file1000552.h5', 'data/raw_knee2d/file1000071.h5', 'data/raw_knee2d/file1000871.h5', 'data/raw_knee2d/file1000254.h5', 'data/raw_knee2d/file1001798.h5', 'data/raw_knee2d/file1002377.h5', 'data/raw_knee2d/file1000280.h5', 'data/raw_knee2d/file1002570.h5'], 'test': ['data/raw_knee2d/file1002155.h5', 'data/raw_knee2d/file1000350.h5', 'data/raw_knee2d/file1000308.h5', 'data/raw_knee2d/file1001064.h5', 'data/raw_knee2d/file1001726.h5', 'data/raw_knee2d/file1002280.h5', 'data/raw_knee2d/file1001119.h5', 'data/raw_knee2d/file1000031.h5', 'data/raw_knee2d/file1000277.h5', 'data/raw_knee2d/file1001995.h5', 'data/raw_knee2d/file1000555.h5', 'data/raw_knee2d/file1000196.h5', 'data/raw_knee2d/file1000108.h5', 'data/raw_knee2d/file1001955.h5', 'data/raw_knee2d/file1001763.h5', 'data/raw_knee2d/file1001338.h5', 'data/raw_knee2d/file1001170.h5', 'data/raw_knee2d/file1000314.h5', 'data/raw_knee2d/file1001219.h5', 'data/raw_knee2d/file1000631.h5']}\n"
     ]
    }
   ],
   "source": [
    "print(config2)"
   ]
  },
  {
   "cell_type": "code",
   "execution_count": 22,
   "metadata": {},
   "outputs": [],
   "source": [
    "def generate_mask_alpha(size=[128,128], r_factor_designed=5.0, r_alpha=3, axis_undersample=1,\n",
    "                        acs=3, seed=0, mute=0):\n",
    "    # init\n",
    "    mask = np.zeros(size)\n",
    "    if seed>=0:\n",
    "        np.random.seed(seed)\n",
    "    # get samples\n",
    "    num_phase_encode = size[axis_undersample]\n",
    "    num_phase_sampled = int(np.floor(num_phase_encode/r_factor_designed))\n",
    "    # coordinate\n",
    "    coordinate_normalized = np.array(range(num_phase_encode))\n",
    "    coordinate_normalized = np.abs(coordinate_normalized-num_phase_encode/2)/(num_phase_encode/2.0)\n",
    "    prob_sample = coordinate_normalized**r_alpha\n",
    "    prob_sample = prob_sample/sum(prob_sample)\n",
    "    # sample\n",
    "    index_sample = np.random.choice(num_phase_encode, size=num_phase_sampled, \n",
    "                                    replace=False, p=prob_sample)\n",
    "    # sample                \n",
    "    if axis_undersample == 0:\n",
    "        mask[index_sample,:]=1\n",
    "    else:\n",
    "        mask[:,index_sample]=1\n",
    "\n",
    "    # compute reduction\n",
    "    r_factor = len(mask.flatten())/sum(mask.flatten())\n",
    "    if not mute:\n",
    "        print('gen mask size of {1} for R-factor={0:.4f}'.format(r_factor, mask.shape))\n",
    "        print(num_phase_encode, num_phase_sampled, np.where(mask[0,:]))\n",
    "\n",
    "    return mask, r_factor"
   ]
  },
  {
   "cell_type": "code",
   "execution_count": 29,
   "metadata": {},
   "outputs": [
    {
     "name": "stdout",
     "output_type": "stream",
     "text": [
      "gen mask size of (256, 320) for R-factor=5.0000\n",
      "320 64 (array([  5,  16,  19,  23,  25,  27,  29,  32,  35,  37,  39,  43,  44,\n",
      "        56,  57,  58,  68,  71,  74,  90, 104, 105, 107, 112, 123, 126,\n",
      "       131, 138, 140, 142, 171, 174, 181, 182, 190, 191, 202, 206, 207,\n",
      "       215, 217, 219, 220, 224, 225, 228, 233, 239, 257, 258, 262, 264,\n",
      "       270, 273, 275, 284, 290, 299, 304, 305, 310, 312, 314, 316]),)\n"
     ]
    }
   ],
   "source": [
    "mask, r_factor = generate_mask_alpha(size=(256,320),r_alpha=0.2,acs=20)"
   ]
  },
  {
   "cell_type": "code",
   "execution_count": 30,
   "metadata": {},
   "outputs": [
    {
     "data": {
      "text/plain": [
       "<matplotlib.colorbar.Colorbar at 0x7fcaa83447f0>"
      ]
     },
     "execution_count": 30,
     "metadata": {},
     "output_type": "execute_result"
    },
    {
     "data": {
      "image/png": "[encoded data removed]",
      "text/plain": [
       "<Figure size 720x720 with 2 Axes>"
      ]
     },
     "metadata": {
      "needs_background": "light"
     },
     "output_type": "display_data"
    }
   ],
   "source": [
    "plt.figure(figsize=(10,10))\n",
    "plt.imshow(mask, cmap='gray')\n",
    "plt.colorbar()"
   ]
  },
  {
   "cell_type": "code",
   "execution_count": null,
   "metadata": {},
   "outputs": [],
   "source": []
  },
  {
   "cell_type": "code",
   "execution_count": null,
   "metadata": {},
   "outputs": [],
   "source": []
  }
 ],
 "metadata": {
  "kernelspec": {
   "display_name": "Python 3",
   "language": "python",
   "name": "python3"
  },
  "language_info": {
   "codemirror_mode": {
    "name": "ipython",
    "version": 3
   },
   "file_extension": ".py",
   "mimetype": "text/x-python",
   "name": "python",
   "nbconvert_exporter": "python",
   "pygments_lexer": "ipython3",
   "version": "3.8.5"
  },
  "latex_envs": {
   "LaTeX_envs_menu_present": true,
   "autoclose": false,
   "autocomplete": true,
   "bibliofile": "biblio.bib",
   "cite_by": "apalike",
   "current_citInitial": 1,
   "eqLabelWithNumbers": true,
   "eqNumInitial": 1,
   "hotkeys": {
    "equation": "Ctrl-E",
    "itemize": "Ctrl-I"
   },
   "labels_anchors": false,
   "latex_user_defs": false,
   "report_style_numbering": false,
   "user_envs_cfg": false
  },
  "toc": {
   "base_numbering": 1,
   "nav_menu": {},
   "number_sections": true,
   "sideBar": true,
   "skip_h1_title": false,
   "title_cell": "Table of Contents",
   "title_sidebar": "Contents",
   "toc_cell": false,
   "toc_position": {},
   "toc_section_display": true,
   "toc_window_display": false
  },
  "varInspector": {
   "cols": {
    "lenName": 16,
    "lenType": 16,
    "lenVar": 40
   },
   "kernels_config": {
    "python": {
     "delete_cmd_postfix": "",
     "delete_cmd_prefix": "del ",
     "library": "var_list.py",
     "varRefreshCmd": "print(var_dic_list())"
    },
    "r": {
     "delete_cmd_postfix": ") ",
     "delete_cmd_prefix": "rm(",
     "library": "var_list.r",
     "varRefreshCmd": "cat(var_dic_list()) "
    }
   },
   "types_to_exclude": [
    "module",
    "function",
    "builtin_function_or_method",
    "instance",
    "_Feature"
   ],
   "window_display": false
  }
 },
 "nbformat": 4,
 "nbformat_minor": 2
}
