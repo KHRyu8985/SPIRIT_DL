{
 "cells": [
  {
   "cell_type": "code",
   "execution_count": 1,
   "metadata": {},
   "outputs": [],
   "source": [
    "import numpy as np\n",
    "import os \n",
    "import h5py\n",
    "os.environ['HDF5_USE_FILE_LOCKING'] = 'FALSE'\n",
    "import glob\n",
    "from natsort import natsorted\n",
    "from sklearn.model_selection import train_test_split\n",
    "import sigpy as sp\n",
    "import sigpy.mri as mri\n",
    "from subsample import *\n",
    "import matplotlib.pyplot as plt\n",
    "from fastmri.data import transforms, mri_data\n"
   ]
  },
  {
   "cell_type": "code",
   "execution_count": 2,
   "metadata": {},
   "outputs": [
    {
     "name": "stdout",
     "output_type": "stream",
     "text": [
      "['data/raw_knee3d/2588bfa8-0c97-478c-aa5a-487cc88a590d.npy', 'data/raw_knee3d/52c2fd53-d233-4444-8bfd-7c454240d314.npy', 'data/raw_knee3d/8ad53ab7-07f9-4864-98d0-dc43145ff588.npy', 'data/raw_knee3d/b65b9167-a0d0-4295-9dd5-74641b3dd7e6.npy', 'data/raw_knee3d/cc70c22f-1ddc-4a53-9503-e33d613de321.npy', 'data/raw_knee3d/d089cbe0-48b3-4ae2-9475-53ca89ee90fe.npy', 'data/raw_knee3d/280cf3f9-3b7e-4738-84e0-f72b21aa5266.npy', 'data/raw_knee3d/ee2efe48-1e9d-480e-9364-e53db01532d4.npy', 'data/raw_knee3d/9a740e7b-8fc3-46f9-9f70-1b7bedec37e4.npy', 'data/raw_knee3d/b7d435a1-2421-48d2-946c-d1b3372f7c60.npy', 'data/raw_knee3d/7a9f028c-8667-48aa-8e08-0acf3320c8d4.npy', 'data/raw_knee3d/1b197efe-9865-43be-ac24-f237c380513e.npy', 'data/raw_knee3d/226e710b-725b-4bec-840e-bf47be2b8a44.npy', 'data/raw_knee3d/dd969854-ec56-4ccc-b7ac-ff4cd7735095.npy', 'data/raw_knee3d/54c077b2-7d68-4e77-b729-16afbccae9ac.npy', 'data/raw_knee3d/efa383b6-9446-438a-9901-1fe951653dbd.npy', 'data/raw_knee3d/ec00945c-ad90-46b7-8c38-a69e9e801074.npy', 'data/raw_knee3d/8eff1229-8074-41fa-8b5e-441b501f10e3.npy', 'data/raw_knee3d/530a812a-4870-4d01-9db4-772c853d693c.npy', 'data/raw_knee3d/38b9a8e8-2779-4979-8602-5e8e5f902863.npy']\n"
     ]
    }
   ],
   "source": [
    "kspace_path_files = glob.glob('data/raw_knee3d/*.npy')\n",
    "print(kspace_path_files)"
   ]
  },
  {
   "cell_type": "code",
   "execution_count": 3,
   "metadata": {},
   "outputs": [],
   "source": [
    "def write_data_h5f(ksp, sens, save_path):\n",
    "    \n",
    "    with h5py.File(save_path, 'w') as hw:\n",
    "        hw.create_dataset('kspace',\n",
    "                          data=np.complex64(kspace)) \n",
    "        hw.create_dataset('sens', data=np.complex64(sensemap))\n",
    "\n",
    "    return"
   ]
  },
  {
   "cell_type": "code",
   "execution_count": null,
   "metadata": {},
   "outputs": [],
   "source": [
    "new_path = 'data/proc_knee3d'\n",
    "for idx, ksp_path in enumerate(kspace_path_files):\n",
    "    kspace = np.load(ksp_path)\n",
    "    kspace = sp.ifft(kspace, axes=[-1]) # \n",
    "\n",
    "    shape_x = kspace.shape[-1]\n",
    "\n",
    "    JsenseApp = mri.app.JsenseRecon(kspace, ksp_calib_width=20)\n",
    "    sensemap = JsenseApp.run()\n",
    "    del JsenseApp\n",
    "    sensemap = sensemap.astype(np.complex64)\n",
    "    \n",
    "    sensemap = np.moveaxis(sensemap,-1,0)\n",
    "    kspace = np.moveaxis(kspace,-1,0)\n",
    "\n",
    "    print('Final Shape:',sensemap.shape, kspace.shape)\n",
    "    save_name = str(idx) + '.h5'\n",
    "    save_path = os.path.join(new_path, save_name)\n",
    "    write_data_h5f(kspace, sensemap, save_path)\n",
    "    print(save_path)"
   ]
  },
  {
   "cell_type": "code",
   "execution_count": null,
   "metadata": {},
   "outputs": [],
   "source": [
    "with h5py.File('data/div_knee3d/Train/0.h5', 'r') as hr:\n",
    "    kspace = hr['kspace'][:]\n",
    "    sens = hr['sens'][:]"
   ]
  },
  {
   "cell_type": "code",
   "execution_count": null,
   "metadata": {},
   "outputs": [],
   "source": [
    "print(kspace.shape, sens.shape)"
   ]
  },
  {
   "cell_type": "code",
   "execution_count": null,
   "metadata": {},
   "outputs": [],
   "source": [
    "ksp_slice, sens_slice = kspace[100], sens[100]"
   ]
  },
  {
   "cell_type": "code",
   "execution_count": null,
   "metadata": {},
   "outputs": [],
   "source": [
    "im_comb = np.sum(sp.ifft(ksp_slice,axes=(1,2)) * np.conj(sens_slice), axis=0)\n",
    "print(im_comb.shape)"
   ]
  },
  {
   "cell_type": "code",
   "execution_count": null,
   "metadata": {
    "scrolled": true
   },
   "outputs": [],
   "source": [
    "plt.figure(figsize=(12,12))\n",
    "plt.imshow(np.abs(im_comb), cmap='gray')\n",
    "plt.axis('off')\n",
    "plt.show()"
   ]
  },
  {
   "cell_type": "code",
   "execution_count": 4,
   "metadata": {},
   "outputs": [],
   "source": [
    "from torch.utils.data import DataLoader, Dataset\n",
    "\n"
   ]
  },
  {
   "cell_type": "code",
   "execution_count": 5,
   "metadata": {},
   "outputs": [],
   "source": [
    "import sigpy.mri\n",
    "import numpy as np\n",
    "import torch\n",
    "from math import floor, ceil\n",
    "\n",
    "class MaskFunc:\n",
    "    \"\"\"\n",
    "    Abstract MaskFunc class for creating undersampling masks of a specified shape.\n",
    "    \"\"\"\n",
    "\n",
    "    def __init__(self, accelerations):\n",
    "        \"\"\"\n",
    "        Args:\n",
    "            accelerations (List[int]): Range of acceleration rates to simulate.\n",
    "        \"\"\"\n",
    "        self.accelerations = accelerations\n",
    "        self.rng = np.random.RandomState()\n",
    "\n",
    "    def choose_acceleration(self):\n",
    "        \"\"\"\n",
    "        Chooses a random acceleration rate given a range.\n",
    "        \"\"\"\n",
    "        accel_range = self.accelerations[1] - self.accelerations[0]\n",
    "        acceleration = self.accelerations[0] + accel_range*self.rng.rand()\n",
    "        return acceleration\n"
   ]
  },
  {
   "cell_type": "code",
   "execution_count": 31,
   "metadata": {},
   "outputs": [],
   "source": [
    "class PoissonDiskMaskFunc(MaskFunc):\n",
    "    \"\"\"\n",
    "    PoissonDiskMaskFunc creates a 2D Poisson disk undersampling mask.\n",
    "    \"\"\"\n",
    "    def __init__(self, accelerations, calib_size):\n",
    "        super().__init__(accelerations)\n",
    "        self.calib_size = [calib_size, calib_size]\n",
    "\n",
    "    def __call__(self, out_shape, seed=None):\n",
    "        #self.rng.seed(seed)\n",
    "\n",
    "        # Design parameters for mask\n",
    "        nky = out_shape[0]\n",
    "        nkz = out_shape[1]\n",
    "        acceleration = self.choose_acceleration()\n",
    "\n",
    "        # Generate undersampling mask\n",
    "        mask = sigpy.mri.poisson([nky, nkz], acceleration,\n",
    "                calib=self.calib_size,\n",
    "                dtype=np.float32)\n",
    "\n",
    "        return mask"
   ]
  },
  {
   "cell_type": "code",
   "execution_count": 17,
   "metadata": {},
   "outputs": [],
   "source": [
    "mask_func = PoissonDiskMaskFunc(accelerations=[9,12],calib_size=20)"
   ]
  },
  {
   "cell_type": "code",
   "execution_count": 19,
   "metadata": {},
   "outputs": [
    {
     "name": "stdout",
     "output_type": "stream",
     "text": [
      "256 320 11.709776092175609 [20, 20]\n",
      "(256, 320)\n"
     ]
    }
   ],
   "source": [
    "mask = mask_func((256,320))\n",
    "print(mask.shape)"
   ]
  },
  {
   "cell_type": "code",
   "execution_count": 8,
   "metadata": {},
   "outputs": [],
   "source": [
    "mask1 = mri.poisson([256,320], 11.5, [20,20])\n"
   ]
  },
  {
   "cell_type": "code",
   "execution_count": 22,
   "metadata": {},
   "outputs": [],
   "source": [
    "import pathlib"
   ]
  },
  {
   "cell_type": "code",
   "execution_count": 47,
   "metadata": {},
   "outputs": [],
   "source": [
    "class kneeData(Dataset):\n",
    "    def __init__(self, root, acc=[9, 12]):\n",
    "        super().__init__()\n",
    "        self.examples = []\n",
    "        Files = list(pathlib.Path(root).glob('*.h5'))\n",
    "        for fname in sorted(Files):\n",
    "            data = h5py.File(fname, 'r')\n",
    "            ksp = data['kspace']\n",
    "\n",
    "            num_slices = ksp.shape[0]\n",
    "            self.examples += [(fname, slice_num)\n",
    "                              for slice_num in range(num_slices)]\n",
    "        self.mask_func = PoissonDiskMaskFunc(accelerations=acc,\n",
    "                                             calib_size=20)\n",
    "\n",
    "    def __len__(self):\n",
    "        return len(self.examples)\n",
    "\n",
    "    def __getitem__(self, idx):\n",
    "        fname, sl = self.examples[idx]\n",
    "        with h5py.File(fname, 'r') as hr:\n",
    "            kspace, sens = hr['kspace'][sl], hr['sens'][sl]\n",
    "\n",
    "        im_coil = sp.ifft(kspace, axes=[1, 2])\n",
    "        im_comb = np.sum(im_coil * np.conj(sens), axis=0)\n",
    "        \n",
    "        mask = self.mask_func(im_comb.shape)\n",
    "        mask = np.expand_dims(mask, axis=0)\n",
    "        masked_kspace = kspace * mask\n",
    "        mask = np.expand_dims(mask, axis=-1)\n",
    "        \n",
    "        masked_kspace = transforms.to_tensor(masked_kspace)\n",
    "        mask = transforms.to_tensor(mask)\n",
    "        sens = transforms.to_tensor(sens)\n",
    "        \n",
    "        im_comb = transforms.to_tensor(im_comb)\n",
    "                        \n",
    "        return masked_kspace, mask.byte(), sens, im_comb"
   ]
  },
  {
   "cell_type": "code",
   "execution_count": 48,
   "metadata": {},
   "outputs": [],
   "source": [
    "dset = kneeData(root='data/div_knee3d/Test')"
   ]
  },
  {
   "cell_type": "code",
   "execution_count": 49,
   "metadata": {},
   "outputs": [
    {
     "name": "stdout",
     "output_type": "stream",
     "text": [
      "torch.Size([8, 256, 320, 2]) torch.Size([1, 256, 320, 1]) torch.Size([8, 256, 320, 2]) torch.Size([256, 320, 2])\n"
     ]
    }
   ],
   "source": [
    "k, m, s, i = dset[0]\n",
    "print(k.shape, m.shape, s.shape, i.shape)"
   ]
  },
  {
   "cell_type": "code",
   "execution_count": 50,
   "metadata": {},
   "outputs": [],
   "source": [
    "trainloader = DataLoader(dset, batch_size=1, shuffle=False, num_workers=4)"
   ]
  },
  {
   "cell_type": "code",
   "execution_count": 51,
   "metadata": {},
   "outputs": [],
   "source": [
    "tmp = iter(trainloader)"
   ]
  },
  {
   "cell_type": "code",
   "execution_count": 52,
   "metadata": {},
   "outputs": [
    {
     "name": "stdout",
     "output_type": "stream",
     "text": [
      "torch.Size([1, 8, 256, 320, 2]) torch.Size([1, 1, 256, 320, 1]) torch.Size([1, 8, 256, 320, 2]) torch.Size([1, 256, 320, 2])\n"
     ]
    }
   ],
   "source": [
    "k, m, s, i = next(tmp)\n",
    "print(k.shape, m.shape, s.shape, i.shape)"
   ]
  },
  {
   "cell_type": "code",
   "execution_count": null,
   "metadata": {},
   "outputs": [],
   "source": [
    "import fastmri\n",
    "from fastmri.data import subsample\n",
    "from fastmri.data import transforms, mri_data\n",
    "from fastmri.data import SliceDataset\n",
    "import pathlib"
   ]
  },
  {
   "cell_type": "code",
   "execution_count": null,
   "metadata": {},
   "outputs": [],
   "source": [
    "def data_transform(kspace, mask, target, data_attributes, filename, slice_num, seed=None):\n",
    "    # Transform the data into appropriate format\n",
    "    # Here we simply mask the k-space and return the result\n",
    "    kspace = transforms.to_tensor(kspace)\n",
    "#    masked_kspace, mask = transforms.apply_mask(kspace, mask_func)\n",
    "    \n",
    "#    max_value = data_attributes[\"max\"].astype('float32')\n",
    "#    crop_size = torch.tensor([data_attributes[\"recon_size\"][0], data_attributes[\"recon_size\"][1]])\n",
    "#    target = fastmri.rss(fastmri.complex_abs(fastmri.ifft2c(kspace)), dim=0)\n",
    "    \n",
    "    return kspace"
   ]
  },
  {
   "cell_type": "code",
   "execution_count": null,
   "metadata": {},
   "outputs": [],
   "source": [
    "trainset = SliceDataset(root= pathlib.Path('data/proc_knee3d'), transform=data_transform, challenge='multicoil')\n"
   ]
  },
  {
   "cell_type": "code",
   "execution_count": null,
   "metadata": {},
   "outputs": [],
   "source": [
    "\n",
    "print(sensemap.shape)"
   ]
  },
  {
   "cell_type": "code",
   "execution_count": null,
   "metadata": {},
   "outputs": [],
   "source": [
    "sens_slice = sensemap[0,...,50]"
   ]
  },
  {
   "cell_type": "code",
   "execution_count": null,
   "metadata": {},
   "outputs": [],
   "source": [
    "ksp = kspace_slice[...,50]\n",
    "im_coil = sp.ifft(ksp, axes=[1,2])"
   ]
  },
  {
   "cell_type": "code",
   "execution_count": null,
   "metadata": {},
   "outputs": [],
   "source": [
    "im_coil = sp.ifft(ksp, axes=[1,2])\n",
    "im_comb = np.sum(im_coil * np.conj(sens_slice), axis=0)"
   ]
  },
  {
   "cell_type": "code",
   "execution_count": null,
   "metadata": {},
   "outputs": [],
   "source": [
    "plt.imshow(np.abs(im_comb), cmap='gray')"
   ]
  },
  {
   "cell_type": "code",
   "execution_count": null,
   "metadata": {
    "scrolled": true
   },
   "outputs": [],
   "source": [
    "mask1 = mri.poisson([256,320], 12, [20,20])\n",
    "plt.imshow(np.real(mask1))"
   ]
  }
 ],
 "metadata": {
  "kernelspec": {
   "display_name": "Python 3",
   "language": "python",
   "name": "python3"
  },
  "language_info": {
   "codemirror_mode": {
    "name": "ipython",
    "version": 3
   },
   "file_extension": ".py",
   "mimetype": "text/x-python",
   "name": "python",
   "nbconvert_exporter": "python",
   "pygments_lexer": "ipython3",
   "version": "3.8.5"
  },
  "latex_envs": {
   "LaTeX_envs_menu_present": true,
   "autoclose": false,
   "autocomplete": true,
   "bibliofile": "biblio.bib",
   "cite_by": "apalike",
   "current_citInitial": 1,
   "eqLabelWithNumbers": true,
   "eqNumInitial": 1,
   "hotkeys": {
    "equation": "Ctrl-E",
    "itemize": "Ctrl-I"
   },
   "labels_anchors": false,
   "latex_user_defs": false,
   "report_style_numbering": false,
   "user_envs_cfg": false
  },
  "toc": {
   "base_numbering": 1,
   "nav_menu": {},
   "number_sections": true,
   "sideBar": true,
   "skip_h1_title": false,
   "title_cell": "Table of Contents",
   "title_sidebar": "Contents",
   "toc_cell": false,
   "toc_position": {},
   "toc_section_display": true,
   "toc_window_display": false
  },
  "varInspector": {
   "cols": {
    "lenName": 16,
    "lenType": 16,
    "lenVar": 40
   },
   "kernels_config": {
    "python": {
     "delete_cmd_postfix": "",
     "delete_cmd_prefix": "del ",
     "library": "var_list.py",
     "varRefreshCmd": "print(var_dic_list())"
    },
    "r": {
     "delete_cmd_postfix": ") ",
     "delete_cmd_prefix": "rm(",
     "library": "var_list.r",
     "varRefreshCmd": "cat(var_dic_list()) "
    }
   },
   "types_to_exclude": [
    "module",
    "function",
    "builtin_function_or_method",
    "instance",
    "_Feature"
   ],
   "window_display": false
  }
 },
 "nbformat": 4,
 "nbformat_minor": 2
}
