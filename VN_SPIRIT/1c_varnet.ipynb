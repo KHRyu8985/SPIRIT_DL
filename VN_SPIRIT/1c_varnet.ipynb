{
 "cells": [
  {
   "cell_type": "code",
   "execution_count": 1,
   "metadata": {},
   "outputs": [],
   "source": [
    "import numpy as np\n",
    "import os \n",
    "import h5py, pathlib\n",
    "os.environ['HDF5_USE_FILE_LOCKING'] = 'FALSE'\n",
    "import glob, json\n",
    "import matplotlib.pyplot as plt\n",
    "from utils.network import VarNet\n",
    "import fastmri\n",
    "from fastmri.data import subsample\n",
    "from fastmri.data import transforms, mri_data\n",
    "from fastmri.data import SliceDataset\n",
    "\n",
    "from torch.utils.data import DataLoader, Dataset\n",
    "import torch\n",
    "import robust_loss_pytorch.general\n"
   ]
  },
  {
   "cell_type": "code",
   "execution_count": 3,
   "metadata": {},
   "outputs": [],
   "source": [
    "mask_func = subsample.EquispacedMaskFunc(\n",
    "                        center_fractions=[0.08, 0.06, 0.04],\n",
    "                        accelerations=[4, 6, 8])"
   ]
  },
  {
   "cell_type": "code",
   "execution_count": 8,
   "metadata": {},
   "outputs": [
    {
     "name": "stdout",
     "output_type": "stream",
     "text": [
      "torch.Size([1, 128, 1])\n"
     ]
    }
   ],
   "source": [
    "msk = mask_func([128,128,2])\n",
    "print(msk.shape)"
   ]
  },
  {
   "cell_type": "code",
   "execution_count": 9,
   "metadata": {},
   "outputs": [],
   "source": [
    "im_comb = np.ones((128,256))"
   ]
  },
  {
   "cell_type": "code",
   "execution_count": 15,
   "metadata": {},
   "outputs": [
    {
     "name": "stdout",
     "output_type": "stream",
     "text": [
      "torch.Size([1, 256])\n"
     ]
    }
   ],
   "source": [
    "msk = mask_func(list(im_comb.shape) + [1])[...,0]\n",
    "print(msk.shape)"
   ]
  },
  {
   "cell_type": "code",
   "execution_count": 48,
   "metadata": {},
   "outputs": [],
   "source": [
    "# Create a mask function\n",
    "mask_func = subsample.RandomMaskFunc(\n",
    "    center_fractions=[0.08, 0.04],\n",
    "    accelerations=[4, 8]\n",
    ")\n",
    "\n",
    "def data_transform(kspace, mask, target, data_attributes, filename, slice_num):\n",
    "    # Transform the data into appropriate format\n",
    "    # Here we simply mask the k-space and return the result\n",
    "    kspace = transforms.to_tensor(kspace)\n",
    "    masked_kspace, mask = transforms.apply_mask(kspace, mask_func)\n",
    "    \n",
    "    acq_start = data_attributes[\"padding_left\"]\n",
    "    acq_end = data_attributes[\"padding_right\"]    \n",
    "    max_value = data_attributes[\"max\"].astype('float32')\n",
    "    crop_size = torch.tensor([data_attributes[\"recon_size\"][0], data_attributes[\"recon_size\"][1]])\n",
    "    \n",
    "    return masked_kspace, mask.byte(), target, max_value\n",
    "\n"
   ]
  },
  {
   "cell_type": "code",
   "execution_count": 49,
   "metadata": {},
   "outputs": [],
   "source": [
    "dataset = SliceDataset(root= pathlib.Path('data/raw_knee2d'), transform=data_transform, challenge='multicoil')"
   ]
  },
  {
   "cell_type": "code",
   "execution_count": 50,
   "metadata": {},
   "outputs": [],
   "source": [
    "ksp, mask, rec, max_value = dataset[0]"
   ]
  },
  {
   "cell_type": "code",
   "execution_count": 51,
   "metadata": {},
   "outputs": [],
   "source": [
    "dataloader = DataLoader(dataset, batch_size=1, shuffle=False)"
   ]
  },
  {
   "cell_type": "code",
   "execution_count": 52,
   "metadata": {},
   "outputs": [],
   "source": [
    "tmp = iter(dataloader)"
   ]
  },
  {
   "cell_type": "code",
   "execution_count": 53,
   "metadata": {},
   "outputs": [
    {
     "name": "stdout",
     "output_type": "stream",
     "text": [
      "torch.Size([1, 15, 640, 368, 2]) torch.Size([1, 1, 1, 368, 1]) torch.Size([1, 320, 320])\n"
     ]
    }
   ],
   "source": [
    "ksp, mask, rec, max_value = next(tmp)\n",
    "print(ksp.shape, mask.shape, rec.shape)"
   ]
  },
  {
   "cell_type": "code",
   "execution_count": 54,
   "metadata": {},
   "outputs": [],
   "source": [
    "varnet = VarNet()"
   ]
  },
  {
   "cell_type": "code",
   "execution_count": 55,
   "metadata": {},
   "outputs": [],
   "source": [
    "out = varnet(ksp, mask)"
   ]
  },
  {
   "cell_type": "code",
   "execution_count": 56,
   "metadata": {},
   "outputs": [
    {
     "name": "stdout",
     "output_type": "stream",
     "text": [
      "torch.Size([1, 640, 368]) torch.Size([1, 15, 640, 368, 2])\n"
     ]
    }
   ],
   "source": [
    "print(out[0].shape, out[1].shape)"
   ]
  },
  {
   "cell_type": "code",
   "execution_count": 57,
   "metadata": {},
   "outputs": [],
   "source": [
    "estY  = out[0]"
   ]
  },
  {
   "cell_type": "code",
   "execution_count": 58,
   "metadata": {},
   "outputs": [
    {
     "data": {
      "text/plain": [
       "torch.float32"
      ]
     },
     "execution_count": 58,
     "metadata": {},
     "output_type": "execute_result"
    }
   ],
   "source": [
    "max_value.dtype"
   ]
  },
  {
   "cell_type": "code",
   "execution_count": 59,
   "metadata": {
    "scrolled": true
   },
   "outputs": [
    {
     "name": "stdout",
     "output_type": "stream",
     "text": [
      "torch.Size([1, 320, 320]) torch.Size([1, 320, 320])\n"
     ]
    }
   ],
   "source": [
    "rec, estY = transforms.center_crop_to_smallest(rec, estY)\n",
    "rec, estY = rec / max_value, estY / max_value\n",
    "\n",
    "print(rec.shape, estY.shape)"
   ]
  },
  {
   "cell_type": "code",
   "execution_count": 60,
   "metadata": {},
   "outputs": [],
   "source": [
    "adaptive = robust_loss_pytorch.adaptive.AdaptiveLossFunction(\n",
    "    num_dims = 1, float_dtype=np.float32, device='cpu')"
   ]
  },
  {
   "cell_type": "code",
   "execution_count": 61,
   "metadata": {},
   "outputs": [],
   "source": [
    "loss = torch.mean(adaptive.lossfun(torch.flatten(rec - estY)[:,None]))"
   ]
  },
  {
   "cell_type": "code",
   "execution_count": null,
   "metadata": {},
   "outputs": [],
   "source": [
    "loss_func = fastmri.SSIMLoss()"
   ]
  },
  {
   "cell_type": "code",
   "execution_count": null,
   "metadata": {},
   "outputs": [],
   "source": [
    "loss = loss_func(estY.unsqueeze(1), rec.unsqueeze(1), data_range = max_value)"
   ]
  },
  {
   "cell_type": "code",
   "execution_count": 63,
   "metadata": {},
   "outputs": [],
   "source": [
    "loss.backward()"
   ]
  },
  {
   "cell_type": "code",
   "execution_count": null,
   "metadata": {},
   "outputs": [],
   "source": [
    "print(max_value)"
   ]
  },
  {
   "cell_type": "code",
   "execution_count": 62,
   "metadata": {},
   "outputs": [
    {
     "data": {
      "text/plain": [
       "1.186174988746643"
      ]
     },
     "execution_count": 62,
     "metadata": {},
     "output_type": "execute_result"
    }
   ],
   "source": [
    "loss.item()"
   ]
  },
  {
   "cell_type": "code",
   "execution_count": 27,
   "metadata": {},
   "outputs": [],
   "source": [
    "with h5py.File('data/div_knee2d/Train/file1000000.h5','r') as hf:\n",
    "    et_root = etree.fromstring(hf[\"ismrmrd_header\"][()])\n",
    "\n",
    "    enc = [\"encoding\", \"encodedSpace\", \"matrixSize\"]\n",
    "    enc_size = (\n",
    "        int(et_query(et_root, enc + [\"x\"])),\n",
    "        int(et_query(et_root, enc + [\"y\"])),\n",
    "        int(et_query(et_root, enc + [\"z\"])),\n",
    "    )\n",
    "    rec = [\"encoding\", \"reconSpace\", \"matrixSize\"]\n",
    "    recon_size = (\n",
    "        int(et_query(et_root, rec + [\"x\"])),\n",
    "        int(et_query(et_root, rec + [\"y\"])),\n",
    "        int(et_query(et_root, rec + [\"z\"])),\n",
    "    )\n",
    "\n",
    "    lims = [\"encoding\", \"encodingLimits\", \"kspace_encoding_step_1\"]\n",
    "    enc_limits_center = int(et_query(et_root, lims + [\"center\"]))\n",
    "    enc_limits_max = int(et_query(et_root, lims + [\"maximum\"])) + 1\n",
    "\n",
    "    padding_left = enc_size[1] // 2 - enc_limits_center\n",
    "    padding_right = padding_left + enc_limits_max\n",
    "    attrs = dict(hf.attrs)"
   ]
  },
  {
   "cell_type": "code",
   "execution_count": 28,
   "metadata": {},
   "outputs": [
    {
     "name": "stdout",
     "output_type": "stream",
     "text": [
      "18 350 (320, 320, 1) 0.00018395940825409758\n"
     ]
    }
   ],
   "source": [
    "print(padding_left, padding_right, recon_size, attrs['max'])"
   ]
  },
  {
   "cell_type": "code",
   "execution_count": 25,
   "metadata": {},
   "outputs": [
    {
     "name": "stdout",
     "output_type": "stream",
     "text": [
      "{'acquisition': 'CORPDFS_FBK', 'max': 0.00018395940825409758, 'norm': 0.056879915583771964, 'patient_id': 'b2a82c7521fe2d4aebb627bbaae92a1916bf06e75cb374fc4187b0909e5c0e36'}\n"
     ]
    }
   ],
   "source": [
    "print(atrrs)"
   ]
  },
  {
   "cell_type": "code",
   "execution_count": 20,
   "metadata": {},
   "outputs": [],
   "source": [
    "def et_query(\n",
    "    root: etree.Element,\n",
    "    qlist: Sequence[str],\n",
    "    namespace: str = \"http://www.ismrm.org/ISMRMRD\",\n",
    ") -> str:\n",
    "    \"\"\"\n",
    "    ElementTree query function.\n",
    "    This can be used to query an xml document via ElementTree. It uses qlist\n",
    "    for nested queries.\n",
    "    Args:\n",
    "        root: Root of the xml to search through.\n",
    "        qlist: A list of strings for nested searches, e.g. [\"Encoding\",\n",
    "            \"matrixSize\"]\n",
    "        namespace: Optional; xml namespace to prepend query.\n",
    "    Returns:\n",
    "        The retrieved data as a string.\n",
    "    \"\"\"\n",
    "    s = \".\"\n",
    "    prefix = \"ismrmrd_namespace\"\n",
    "\n",
    "    ns = {prefix: namespace}\n",
    "\n",
    "    for el in qlist:\n",
    "        s = s + f\"//{prefix}:{el}\"\n",
    "\n",
    "    value = root.find(s, ns)\n",
    "    if value is None:\n",
    "        raise RuntimeError(\"Element not found\")\n",
    "\n",
    "    return str(value.text)"
   ]
  },
  {
   "cell_type": "code",
   "execution_count": 51,
   "metadata": {},
   "outputs": [],
   "source": [
    "from utils.dataset import Data2D"
   ]
  },
  {
   "cell_type": "code",
   "execution_count": 52,
   "metadata": {},
   "outputs": [],
   "source": [
    "dset = Data2D('data/div_knee2d/Test')"
   ]
  },
  {
   "cell_type": "code",
   "execution_count": 53,
   "metadata": {},
   "outputs": [
    {
     "data": {
      "text/plain": [
       "1404"
      ]
     },
     "execution_count": 53,
     "metadata": {},
     "output_type": "execute_result"
    }
   ],
   "source": [
    "len(dset)"
   ]
  },
  {
   "cell_type": "code",
   "execution_count": 54,
   "metadata": {},
   "outputs": [],
   "source": [
    "mk, m, s, i = dset[0]"
   ]
  },
  {
   "cell_type": "code",
   "execution_count": 55,
   "metadata": {},
   "outputs": [
    {
     "name": "stdout",
     "output_type": "stream",
     "text": [
      "torch.Size([15, 640, 372, 2]) torch.Size([1, 1, 372, 1]) torch.Size([15, 640, 372, 2]) torch.Size([1, 640, 372, 2])\n"
     ]
    }
   ],
   "source": [
    "print(mk.shape, m.shape, s.shape, i.shape)"
   ]
  },
  {
   "cell_type": "code",
   "execution_count": 50,
   "metadata": {},
   "outputs": [
    {
     "name": "stdout",
     "output_type": "stream",
     "text": [
      "The autoreload extension is already loaded. To reload it, use:\n",
      "  %reload_ext autoreload\n"
     ]
    }
   ],
   "source": [
    "%load_ext autoreload\n",
    "%autoreload 2"
   ]
  }
 ],
 "metadata": {
  "kernelspec": {
   "display_name": "Python 3",
   "language": "python",
   "name": "python3"
  },
  "language_info": {
   "codemirror_mode": {
    "name": "ipython",
    "version": 3
   },
   "file_extension": ".py",
   "mimetype": "text/x-python",
   "name": "python",
   "nbconvert_exporter": "python",
   "pygments_lexer": "ipython3",
   "version": "3.8.5"
  },
  "latex_envs": {
   "LaTeX_envs_menu_present": true,
   "autoclose": false,
   "autocomplete": true,
   "bibliofile": "biblio.bib",
   "cite_by": "apalike",
   "current_citInitial": 1,
   "eqLabelWithNumbers": true,
   "eqNumInitial": 1,
   "hotkeys": {
    "equation": "Ctrl-E",
    "itemize": "Ctrl-I"
   },
   "labels_anchors": false,
   "latex_user_defs": false,
   "report_style_numbering": false,
   "user_envs_cfg": false
  },
  "toc": {
   "base_numbering": 1,
   "nav_menu": {},
   "number_sections": true,
   "sideBar": true,
   "skip_h1_title": false,
   "title_cell": "Table of Contents",
   "title_sidebar": "Contents",
   "toc_cell": false,
   "toc_position": {},
   "toc_section_display": true,
   "toc_window_display": false
  },
  "varInspector": {
   "cols": {
    "lenName": 16,
    "lenType": 16,
    "lenVar": 40
   },
   "kernels_config": {
    "python": {
     "delete_cmd_postfix": "",
     "delete_cmd_prefix": "del ",
     "library": "var_list.py",
     "varRefreshCmd": "print(var_dic_list())"
    },
    "r": {
     "delete_cmd_postfix": ") ",
     "delete_cmd_prefix": "rm(",
     "library": "var_list.r",
     "varRefreshCmd": "cat(var_dic_list()) "
    }
   },
   "types_to_exclude": [
    "module",
    "function",
    "builtin_function_or_method",
    "instance",
    "_Feature"
   ],
   "window_display": false
  }
 },
 "nbformat": 4,
 "nbformat_minor": 4
}
