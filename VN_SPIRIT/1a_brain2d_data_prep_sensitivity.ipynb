{
 "cells": [
  {
   "cell_type": "code",
   "execution_count": null,
   "metadata": {},
   "outputs": [],
   "source": [
    "file_list = glob.glob('data/raw_brain2d/*')\n"
   ]
  },
  {
   "cell_type": "code",
   "execution_count": null,
   "metadata": {
    "scrolled": true
   },
   "outputs": [],
   "source": [
    "for idx, h5file in enumerate(file_list):\n",
    "    print(idx)\n",
    "    with h5py.File(h5file, 'r') as hf:\n",
    "        if 'sens' in hf.keys():\n",
    "            sens_flag = True\n",
    "        else:\n",
    "            sens_flag = False\n",
    "            kspace = hf['kspace'][:]\n",
    "            kspace = kspace[:,:,::2]\n",
    "    if sens_flag == False:\n",
    "        num_slices = kspace.shape[0]\n",
    "        sens = np.zeros(kspace.shape, dtype='complex64')\n",
    "\n",
    "        for sl in range(num_slices):\n",
    "            ksp = kspace[sl]    \n",
    "            JsenseApp = mri.app.JsenseRecon(ksp, ksp_calib_width=20, show_pbar=False)\n",
    "            sensemap = JsenseApp.run()\n",
    "            del JsenseApp\n",
    "            sensemap = sensemap.astype(np.complex64)\n",
    "            sens[sl] = sensemap\n",
    "        \n",
    "        print('Writing a Sensitivity map for ', h5file)\n",
    "        with h5py.File(h5file, 'a') as ha:\n",
    "            del ha['kspace']\n",
    "            ha.create_dataset('sens', data = sens)\n",
    "            ha.create_dataset('kspace', data = kspace)\n",
    "            print(kspace.shape, sens.shape) # Just in case\n",
    "\n",
    "    else:\n",
    "        print('Already got a sensitivity map')"
   ]
  },
  {
   "cell_type": "code",
   "execution_count": 3,
   "metadata": {},
   "outputs": [],
   "source": [
    "from utils.dataset import Data2D"
   ]
  },
  {
   "cell_type": "code",
   "execution_count": 7,
   "metadata": {},
   "outputs": [
    {
     "data": {
      "text/plain": [
       "0"
      ]
     },
     "execution_count": 7,
     "metadata": {},
     "output_type": "execute_result"
    }
   ],
   "source": [
    "trainset = Data2D('data/div_brain2d/Test', dset_type='knee2d')\n",
    "len(trainset)"
   ]
  },
  {
   "cell_type": "code",
   "execution_count": null,
   "metadata": {},
   "outputs": [],
   "source": [
    "a,b,c,d = trainset[0]"
   ]
  },
  {
   "cell_type": "code",
   "execution_count": null,
   "metadata": {},
   "outputs": [],
   "source": [
    "with h5py.File('data/raw_brain2d/file_brain_AXT2_203_2030225.h5', 'r') as hf:\n",
    "    kspace = hf['kspace'][:]\n",
    "print(kspace.shape)"
   ]
  },
  {
   "cell_type": "code",
   "execution_count": null,
   "metadata": {},
   "outputs": [],
   "source": [
    "with h5py.File('data/div_brain2d/Train/file_brain_AXFLAIR_200_6002462.h5', 'a') as ha:\n",
    "    del ha['kspace']\n",
    "    ha.create_dataset('kspace', data = kspace)"
   ]
  },
  {
   "cell_type": "code",
   "execution_count": null,
   "metadata": {},
   "outputs": [],
   "source": [
    "with h5py.File('data/div_brain2d/Train/file_brain_AXFLAIR_200_6002462.h5', 'r') as hf:\n",
    "    kspace = hf['kspace'][:]\n",
    "    print(kspace.shape)"
   ]
  },
  {
   "cell_type": "code",
   "execution_count": null,
   "metadata": {},
   "outputs": [],
   "source": [
    "im = sp.ifft(kspace,axes=[2,3])"
   ]
  },
  {
   "cell_type": "code",
   "execution_count": null,
   "metadata": {},
   "outputs": [],
   "source": [
    "im_comb = sp.rss(im,1)"
   ]
  },
  {
   "cell_type": "code",
   "execution_count": null,
   "metadata": {},
   "outputs": [],
   "source": [
    "plt.imshow(np.abs(im_comb[8]), cmap='gray')"
   ]
  },
  {
   "cell_type": "code",
   "execution_count": null,
   "metadata": {},
   "outputs": [],
   "source": []
  }
 ],
 "metadata": {
  "kernelspec": {
   "display_name": "Python 3",
   "language": "python",
   "name": "python3"
  },
  "language_info": {
   "codemirror_mode": {
    "name": "ipython",
    "version": 3
   },
   "file_extension": ".py",
   "mimetype": "text/x-python",
   "name": "python",
   "nbconvert_exporter": "python",
   "pygments_lexer": "ipython3",
   "version": "3.8.5"
  },
  "latex_envs": {
   "LaTeX_envs_menu_present": true,
   "autoclose": false,
   "autocomplete": true,
   "bibliofile": "biblio.bib",
   "cite_by": "apalike",
   "current_citInitial": 1,
   "eqLabelWithNumbers": true,
   "eqNumInitial": 1,
   "hotkeys": {
    "equation": "Ctrl-E",
    "itemize": "Ctrl-I"
   },
   "labels_anchors": false,
   "latex_user_defs": false,
   "report_style_numbering": false,
   "user_envs_cfg": false
  },
  "toc": {
   "base_numbering": 1,
   "nav_menu": {},
   "number_sections": true,
   "sideBar": true,
   "skip_h1_title": false,
   "title_cell": "Table of Contents",
   "title_sidebar": "Contents",
   "toc_cell": false,
   "toc_position": {},
   "toc_section_display": true,
   "toc_window_display": false
  },
  "varInspector": {
   "cols": {
    "lenName": 16,
    "lenType": 16,
    "lenVar": 40
   },
   "kernels_config": {
    "python": {
     "delete_cmd_postfix": "",
     "delete_cmd_prefix": "del ",
     "library": "var_list.py",
     "varRefreshCmd": "print(var_dic_list())"
    },
    "r": {
     "delete_cmd_postfix": ") ",
     "delete_cmd_prefix": "rm(",
     "library": "var_list.r",
     "varRefreshCmd": "cat(var_dic_list()) "
    }
   },
   "types_to_exclude": [
    "module",
    "function",
    "builtin_function_or_method",
    "instance",
    "_Feature"
   ],
   "window_display": false
  }
 },
 "nbformat": 4,
 "nbformat_minor": 2
}
